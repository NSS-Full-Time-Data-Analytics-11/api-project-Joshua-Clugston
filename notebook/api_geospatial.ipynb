{
 "cells": [
  {
   "cell_type": "code",
   "execution_count": null,
   "id": "a02c7a9f-e966-426b-bd23-f007d109a9d9",
   "metadata": {},
   "outputs": [],
   "source": [
    "from shapely.geometry import Point\n",
    "import pandas as pd\n",
    "import geopandas as gpd\n",
    "import matplotlib.pyplot as plt\n",
    "import folium\n",
    "from folium.plugins import MarkerCluster\n",
    "import numpy as np"
   ]
  },
  {
   "cell_type": "code",
   "execution_count": null,
   "id": "d4cac2a8-b851-4b15-a7a9-fac228a21558",
   "metadata": {
    "scrolled": true
   },
   "outputs": [],
   "source": [
    "police_df = pd.read_csv('../data/police.csv')\n",
    "police_df = police_df.drop(columns = 'Unnamed: 0')\n",
    "police_df"
   ]
  },
  {
   "cell_type": "code",
   "execution_count": null,
   "id": "84d999c2-621e-4ae7-8ffb-a80d2ac26a41",
   "metadata": {},
   "outputs": [],
   "source": [
    "zipcodes = gpd.read_file('../data/zipcodes.geojson')\n",
    "zipcodes.head( )"
   ]
  },
  {
   "cell_type": "code",
   "execution_count": null,
   "id": "a3568447-7734-4fd2-bd10-7d9507425bbd",
   "metadata": {},
   "outputs": [],
   "source": [
    "print(police_df.loc[3,'Latitude'])\n",
    "print(type(police_df.loc[3,'Latitude']))"
   ]
  },
  {
   "cell_type": "code",
   "execution_count": null,
   "id": "6a531ac3-d797-4de9-a4ef-7e0ef17d2b3d",
   "metadata": {},
   "outputs": [],
   "source": [
    "isnan(police_df.loc[0,'Latitude'])"
   ]
  },
  {
   "cell_type": "code",
   "execution_count": null,
   "id": "5f55fad8-d6c2-4269-8342-cab4fc4c723e",
   "metadata": {},
   "outputs": [],
   "source": [
    "geo = []\n",
    "\n",
    "for row, value in police_df.iterrows():\n",
    "    if not isnan(value.Latitude):\n",
    "        coord = Point(value.longitude,value.Latitude)\n",
    "        geo.append(coord)\n",
    "    else:\n",
    "        geo.append(None)"
   ]
  },
  {
   "cell_type": "code",
   "execution_count": null,
   "id": "f915cefe-613e-4de1-b267-ead795e1a110",
   "metadata": {},
   "outputs": [],
   "source": [
    "len(geo)"
   ]
  },
  {
   "cell_type": "code",
   "execution_count": null,
   "id": "e52419c1-1a33-4b91-adb8-a5a1bd1acfd3",
   "metadata": {},
   "outputs": [],
   "source": [
    "police_df['geometry'] = geo"
   ]
  },
  {
   "cell_type": "code",
   "execution_count": null,
   "id": "eef80cd8-aa97-4dde-aec3-9b4b2e59cd2c",
   "metadata": {
    "scrolled": true
   },
   "outputs": [],
   "source": [
    "police_gdf = gpd.GeoDataFrame(police_df)\n",
    "police_gdf"
   ]
  },
  {
   "cell_type": "code",
   "execution_count": null,
   "id": "c902aed0-5516-416f-ab80-f167d93dfa54",
   "metadata": {},
   "outputs": [],
   "source": [
    "police_gdf.crs = zipcodes.crs"
   ]
  },
  {
   "cell_type": "markdown",
   "id": "6509c082-7e38-4851-9e3b-a2c5955732a5",
   "metadata": {},
   "source": [
    "### Saving the GeoDataFrame so that I don't have to run 20 minutes of code again"
   ]
  },
  {
   "cell_type": "code",
   "execution_count": null,
   "id": "f3f72362-96cc-4230-beae-6d09d2315e41",
   "metadata": {},
   "outputs": [],
   "source": [
    "police_gdf.to_csv('../data/police_geo.csv')"
   ]
  },
  {
   "cell_type": "code",
   "execution_count": null,
   "id": "10c4f508-a0a1-45cf-90ca-ae83e75a09de",
   "metadata": {
    "scrolled": true
   },
   "outputs": [],
   "source": [
    "police_loc = police_gdf.loc[police_gdf.geometry == None]\n",
    "#police_loc = police_loc.reset_index(drop=True)\n",
    "police_loc"
   ]
  },
  {
   "cell_type": "code",
   "execution_count": null,
   "id": "6258b6b2-6340-4ce6-92ef-45d1eced9e2f",
   "metadata": {
    "scrolled": true
   },
   "outputs": [],
   "source": [
    "police_gdf = police_gdf.replace({np.nan:None})"
   ]
  },
  {
   "cell_type": "code",
   "execution_count": null,
   "id": "196c7a73-b05e-43ae-8854-25c6884845c8",
   "metadata": {},
   "outputs": [],
   "source": [
    "type(police_gdf.loc[0,'geometry'])"
   ]
  },
  {
   "cell_type": "code",
   "execution_count": null,
   "id": "5896c189-86c3-4e13-a3d5-e3ea34b1e3d8",
   "metadata": {
    "scrolled": true
   },
   "outputs": [],
   "source": [
    "police_gdf = pd.read_csv('../data/police_geo.csv')\n",
    "police_gdf"
   ]
  },
  {
   "cell_type": "code",
   "execution_count": null,
   "id": "7b2de746-1362-48da-aaa0-cc473d3d0d0a",
   "metadata": {
    "scrolled": true
   },
   "outputs": [],
   "source": [
    "police_gdf = gpd.GeoDataFrame(police_gdf)\n",
    "police_gdf.set_geometry('Mapped_Location')\n",
    "police_gdf.crs = zipcodes.crs"
   ]
  },
  {
   "cell_type": "code",
   "execution_count": null,
   "id": "0c918588-023e-44b2-9b50-8eb9afc0ba48",
   "metadata": {},
   "outputs": [],
   "source": [
    "area_center = [36.23245257407244, -86.77676762469858]"
   ]
  },
  {
   "cell_type": "code",
   "execution_count": null,
   "id": "faa2665a-eabe-46fd-b112-8d011e5315b5",
   "metadata": {
    "scrolled": true
   },
   "outputs": [],
   "source": [
    "police_map = folium.Map(location =  area_center, zoom_start = 12)\n",
    "\n",
    "folium.GeoJson(zipcodes).add_to(police_map)\n",
    "\n",
    "marker_cluster = MarkerCluster().add_to(police_map)\n",
    "\n",
    "#remember for Folium locations, lat is listed first!!\n",
    "i=0\n",
    "for row_index, row_values in police_loc.iterrows():\n",
    "    print(i)\n",
    "    loc = [row_values['Latitude'], row_values['longitude']]\n",
    "        \n",
    "    if row_index < 5988325:\n",
    "        icon=folium.Icon(color=\"red\",icon=\"phone\", prefix='fa')\n",
    "    else:\n",
    "        icon=folium.Icon(color='blue',icon='handcuffs', prefix='fa')\n",
    "            \n",
    "    marker = folium.Marker(\n",
    "        location = loc, \n",
    "        icon = icon) \n",
    "        \n",
    "    marker.add_to(police_map)\n",
    "    i += 1\n",
    "#end"
   ]
  },
  {
   "cell_type": "code",
   "execution_count": null,
   "id": "d491dea8-5a3e-435c-b67c-985a1377fb49",
   "metadata": {},
   "outputs": [],
   "source": [
    "police_map"
   ]
  },
  {
   "cell_type": "code",
   "execution_count": null,
   "id": "cbb4ae65-141d-47ff-a2ad-ad2f2bb4420a",
   "metadata": {},
   "outputs": [],
   "source": []
  }
 ],
 "metadata": {
  "kernelspec": {
   "display_name": "Python 3 (ipykernel)",
   "language": "python",
   "name": "python3"
  },
  "language_info": {
   "codemirror_mode": {
    "name": "ipython",
    "version": 3
   },
   "file_extension": ".py",
   "mimetype": "text/x-python",
   "name": "python",
   "nbconvert_exporter": "python",
   "pygments_lexer": "ipython3",
   "version": "3.10.13"
  }
 },
 "nbformat": 4,
 "nbformat_minor": 5
}
