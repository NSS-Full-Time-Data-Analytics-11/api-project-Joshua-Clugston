{
 "cells": [
  {
   "cell_type": "code",
   "execution_count": null,
   "id": "0dc62c5a",
   "metadata": {},
   "outputs": [],
   "source": [
    "import requests\n",
    "import pandas as pd\n",
    "import seaborn as sns\n",
    "import matplotlib.pyplot as plt"
   ]
  },
  {
   "cell_type": "markdown",
   "id": "522c2e19",
   "metadata": {},
   "source": [
    "## 5. Make an API request to pull back all the data from hubNashville (311) Service Requests (check to see how many rows you can return in a single request). Compare it to the Top 500 Monthly Searches data set. What do you observe? (This is open-ended, there isn't a specific answer for this one)"
   ]
  },
  {
   "cell_type": "markdown",
   "id": "3fd0ba99",
   "metadata": {},
   "source": [
    "There's a lot of data here, so I'm gonna pull 500,000 rows at a time (which requires 3 requests)"
   ]
  },
  {
   "cell_type": "markdown",
   "id": "fb8b05ac",
   "metadata": {},
   "source": [
    "### Request 1"
   ]
  },
  {
   "cell_type": "code",
   "execution_count": null,
   "id": "bd249e47",
   "metadata": {},
   "outputs": [],
   "source": [
    "endpoint = 'https://data.nashville.gov/resource/7qhx-rexh.json?$limit=500000'\n",
    "response = requests.get(endpoint)\n",
    "response"
   ]
  },
  {
   "cell_type": "code",
   "execution_count": null,
   "id": "4e007ce9",
   "metadata": {},
   "outputs": [],
   "source": [
    "result = response.json()\n",
    "result"
   ]
  },
  {
   "cell_type": "code",
   "execution_count": null,
   "id": "fd370a58",
   "metadata": {},
   "outputs": [],
   "source": [
    "len(result)"
   ]
  },
  {
   "cell_type": "code",
   "execution_count": null,
   "id": "2598f7e4",
   "metadata": {
    "scrolled": true
   },
   "outputs": [],
   "source": [
    "_311_df_1 = pd.DataFrame(result)\n",
    "_311_df_1"
   ]
  },
  {
   "cell_type": "markdown",
   "id": "bc5b0b83",
   "metadata": {},
   "source": [
    "### Request 2"
   ]
  },
  {
   "cell_type": "code",
   "execution_count": null,
   "id": "924a4f41",
   "metadata": {},
   "outputs": [],
   "source": [
    "endpoint = 'https://data.nashville.gov/resource/7qhx-rexh.json?$limit=500000&$offset=500000'\n",
    "response = requests.get(endpoint)\n",
    "response"
   ]
  },
  {
   "cell_type": "code",
   "execution_count": null,
   "id": "e2693dd0",
   "metadata": {},
   "outputs": [],
   "source": [
    "results = response.json()"
   ]
  },
  {
   "cell_type": "code",
   "execution_count": null,
   "id": "7e4cadb9",
   "metadata": {},
   "outputs": [],
   "source": [
    "_311_df_2 = pd.DataFrame(results)"
   ]
  },
  {
   "cell_type": "code",
   "execution_count": null,
   "id": "c65c8eb5",
   "metadata": {},
   "outputs": [],
   "source": [
    "_311_df = pd.concat([_311_df_1, _311_df_2]).reset_index(drop = True)\n",
    "_311_df"
   ]
  },
  {
   "cell_type": "markdown",
   "id": "0d5c1e52",
   "metadata": {},
   "source": [
    "### Request 3"
   ]
  },
  {
   "cell_type": "code",
   "execution_count": null,
   "id": "ef7aef3b",
   "metadata": {},
   "outputs": [],
   "source": [
    "endpoint = 'https://data.nashville.gov/resource/7qhx-rexh.json?$limit=500000&$offset=1000000'\n",
    "response = requests.get(endpoint)\n",
    "response"
   ]
  },
  {
   "cell_type": "code",
   "execution_count": null,
   "id": "4e273f28",
   "metadata": {},
   "outputs": [],
   "source": [
    "results = response.json()\n",
    "_311_df_3 = pd.DataFrame(results)"
   ]
  },
  {
   "cell_type": "code",
   "execution_count": null,
   "id": "b0ab4ec1",
   "metadata": {},
   "outputs": [],
   "source": [
    "_311_df = pd.concat([_311_df, _311_df_3])"
   ]
  },
  {
   "cell_type": "code",
   "execution_count": null,
   "id": "d68fe743",
   "metadata": {},
   "outputs": [],
   "source": [
    "_311_df.reset_index(drop = True)"
   ]
  },
  {
   "cell_type": "markdown",
   "id": "1f624a42",
   "metadata": {},
   "source": [
    "So obviously, there's a *lot* more rows and columns in the dataset versus the monthly searches one.\n",
    "\n",
    "Another difference is the amount of different datatypes. The monthly searches only had strings (even the numbers were considered objects), while this one has a lot more variety.\n",
    "\n",
    "Something of note: after I requested the data for this dataset, I received many more columns that what was listed on the site. The request brought in teh \"@computed_region\" columns, which I have no idea how to interpret. The other dataset didn't do anything like that."
   ]
  },
  {
   "cell_type": "markdown",
   "id": "8d5058f6",
   "metadata": {},
   "source": [
    "## 6. Find 2 new data sets on data.nashville.gov, make API requests to pull the data, and do an analysis that combines the data sets."
   ]
  },
  {
   "cell_type": "code",
   "execution_count": null,
   "id": "975a8c71",
   "metadata": {},
   "outputs": [],
   "source": [
    "endpoint = ('https://data.nashville.gov/resource/kwnd-qrrm.json?$select=call_rec,description,'\n",
    "            'zone,rpa,lat,lon,mapped_location&$limit=6000000')\n",
    "response = requests.get(endpoint)\n",
    "response"
   ]
  },
  {
   "cell_type": "code",
   "execution_count": null,
   "id": "aa2ed41d",
   "metadata": {},
   "outputs": [],
   "source": [
    "results = response.json()\n",
    "police_df = pd.DataFrame(results)"
   ]
  },
  {
   "cell_type": "code",
   "execution_count": null,
   "id": "44481365",
   "metadata": {},
   "outputs": [],
   "source": [
    "police_df"
   ]
  },
  {
   "cell_type": "code",
   "execution_count": null,
   "id": "f17260d9",
   "metadata": {},
   "outputs": [],
   "source": [
    "results"
   ]
  },
  {
   "cell_type": "code",
   "execution_count": null,
   "id": "0453a762",
   "metadata": {},
   "outputs": [],
   "source": [
    "dates = []\n",
    "times = []\n",
    "\n",
    "for call in police_df['call_rec']:\n",
    "    split = str(call).split('T')\n",
    "    dates.append(split[0])\n",
    "    times.append(split[1])"
   ]
  },
  {
   "cell_type": "code",
   "execution_count": null,
   "id": "bd9878ea",
   "metadata": {},
   "outputs": [],
   "source": [
    "police_df['Date'] = dates\n",
    "police_df['Time'] = times\n",
    "police_df"
   ]
  },
  {
   "cell_type": "code",
   "execution_count": null,
   "id": "b7afc4f5",
   "metadata": {},
   "outputs": [],
   "source": []
  }
 ],
 "metadata": {
  "kernelspec": {
   "display_name": "Python 3 (ipykernel)",
   "language": "python",
   "name": "python3"
  },
  "language_info": {
   "codemirror_mode": {
    "name": "ipython",
    "version": 3
   },
   "file_extension": ".py",
   "mimetype": "text/x-python",
   "name": "python",
   "nbconvert_exporter": "python",
   "pygments_lexer": "ipython3",
   "version": "3.11.4"
  }
 },
 "nbformat": 4,
 "nbformat_minor": 5
}
